{
 "cells": [
  {
   "cell_type": "markdown",
   "id": "e03801fe-f80a-4b9e-9fab-35a28d902417",
   "metadata": {},
   "source": [
    "# Week 9 Numpy Assignment"
   ]
  },
  {
   "cell_type": "markdown",
   "id": "e5e1e782-d1b0-45b4-8d50-882c998ddf50",
   "metadata": {},
   "source": [
    "## Consider the below code to answer further questions:"
   ]
  },
  {
   "cell_type": "code",
   "execution_count": 1,
   "id": "95ad6e40-7e08-43ad-851f-9b9a6ee33aaf",
   "metadata": {},
   "outputs": [],
   "source": [
    "import numpy as np\n",
    "list_ = [ '1' , '2' , '3' , '4' , '5' ]\n",
    "array_list = np.array(object = list_)"
   ]
  },
  {
   "cell_type": "markdown",
   "id": "6beb3cf2-fd8d-45fa-bbed-232321b7bb30",
   "metadata": {},
   "source": [
    "## Q1. Is there any difference in the data type of variables list_ and array_list? If there is then write a code to print the data types of both the variables."
   ]
  },
  {
   "cell_type": "markdown",
   "id": "56f2b022-7598-471e-9320-18db20c03b64",
   "metadata": {},
   "source": [
    "#### Yes there is difference in the data type of variables list_ and array_list.\n",
    "#### list_ is of type \"list\" while array_list is of type \"numpy.ndarray\""
   ]
  },
  {
   "cell_type": "code",
   "execution_count": 5,
   "id": "709163a2-58cf-4792-bb96-a83e3a20d0c3",
   "metadata": {},
   "outputs": [
    {
     "name": "stdout",
     "output_type": "stream",
     "text": [
      "<class 'list'>\n"
     ]
    }
   ],
   "source": [
    "# list_ type\n",
    "print(type(list_))"
   ]
  },
  {
   "cell_type": "code",
   "execution_count": 6,
   "id": "cb99e272-0575-4b07-965b-b52ed7b987c7",
   "metadata": {},
   "outputs": [
    {
     "name": "stdout",
     "output_type": "stream",
     "text": [
      "<class 'numpy.ndarray'>\n"
     ]
    }
   ],
   "source": [
    "# array_list type\n",
    "print(type(array_list))"
   ]
  },
  {
   "cell_type": "markdown",
   "id": "975db748-669a-4aca-98d2-bc11c555ad3e",
   "metadata": {},
   "source": [
    "## Q2. Write a code to print the data type of each and every element of both the variables list_ and array_list."
   ]
  },
  {
   "cell_type": "code",
   "execution_count": 8,
   "id": "ed30a368-2d0a-4852-991f-577f78b5b40a",
   "metadata": {},
   "outputs": [
    {
     "name": "stdout",
     "output_type": "stream",
     "text": [
      "data type of elements of list_ : \n",
      "<class 'str'>\n",
      "<class 'str'>\n",
      "<class 'str'>\n",
      "<class 'str'>\n",
      "<class 'str'>\n",
      "\n",
      "data typ of elements of array_list : \n",
      "<class 'numpy.ndarray'>\n",
      "<class 'numpy.ndarray'>\n",
      "<class 'numpy.ndarray'>\n",
      "<class 'numpy.ndarray'>\n",
      "<class 'numpy.ndarray'>\n"
     ]
    }
   ],
   "source": [
    "# for list_\n",
    "print('data type of elements of list_ : ')\n",
    "for i in list_:\n",
    "    print(type(i))\n",
    "    \n",
    "print('\\ndata typ of elements of array_list : ')\n",
    "for i in array_list:\n",
    "    print(type(array_list))"
   ]
  },
  {
   "cell_type": "markdown",
   "id": "64c29215-9167-48e4-9d90-52f04aeff63a",
   "metadata": {},
   "source": [
    "## Q3. Considering the following changes in the variable, array_list:\n",
    "\n",
    "### Will there be any difference in the data type of the elements present in both the variables, list_ and arra_list? If so then print the data types of each and every element present in both the variables, list_ and arra_list."
   ]
  },
  {
   "cell_type": "code",
   "execution_count": 9,
   "id": "6f059ed9-2f31-43c8-914a-25f767ccc1d3",
   "metadata": {},
   "outputs": [],
   "source": [
    "array_list = np.array(object = list_, dtype = int)"
   ]
  },
  {
   "cell_type": "markdown",
   "id": "b8a2fa39-c53a-4142-9f30-2e1558203b0c",
   "metadata": {},
   "source": [
    "It is true that the data type of the elements in both list_ and array_list will be different. The data type of each element in list_ is str whereas array_list is int."
   ]
  },
  {
   "cell_type": "code",
   "execution_count": 13,
   "id": "dd5e6f76-0ea4-4016-999f-c9c8e23bb88d",
   "metadata": {},
   "outputs": [
    {
     "name": "stdout",
     "output_type": "stream",
     "text": [
      "for list_ elements : \n",
      "<class 'str'>\n",
      "<class 'str'>\n",
      "<class 'str'>\n",
      "<class 'str'>\n",
      "<class 'str'>\n",
      "\n",
      " for array_list elements : \n",
      "<class 'numpy.int64'>\n",
      "<class 'numpy.int64'>\n",
      "<class 'numpy.int64'>\n",
      "<class 'numpy.int64'>\n",
      "<class 'numpy.int64'>\n"
     ]
    }
   ],
   "source": [
    "# for list_\n",
    "print('for list_ elements : ')\n",
    "for i in list_:\n",
    "    print(type(i))\n",
    " \n",
    "# for array_list\n",
    "print('\\n for array_list elements : ')\n",
    "for i in array_list:\n",
    "    print(type(i))"
   ]
  },
  {
   "cell_type": "markdown",
   "id": "fe9df57b-7ac8-4cf6-b7f0-898255ccb277",
   "metadata": {},
   "source": [
    "## Consider the below code to answer further questions:"
   ]
  },
  {
   "cell_type": "code",
   "execution_count": 14,
   "id": "8490c211-f7de-4da3-9d24-0781d6cc9754",
   "metadata": {},
   "outputs": [],
   "source": [
    "import numpy as np\n",
    "num_list = [ [ 1 , 2 , 3 ] , [ 4 , 5 , 6 ] ]\n",
    "num_array = np.array(object = num_list)"
   ]
  },
  {
   "cell_type": "markdown",
   "id": "ffb2ed7e-b559-4304-8f7f-21871e620e04",
   "metadata": {},
   "source": [
    "## Q4. Write a code to find the following characteristics of variable, num_array:\n",
    "+ (i) shape\n",
    "+ (ii) size"
   ]
  },
  {
   "cell_type": "code",
   "execution_count": 15,
   "id": "f445d293-9a2f-4e47-87c0-fa7c1d0ebc07",
   "metadata": {},
   "outputs": [
    {
     "data": {
      "text/plain": [
       "(2, 3)"
      ]
     },
     "execution_count": 15,
     "metadata": {},
     "output_type": "execute_result"
    }
   ],
   "source": [
    "np.shape(num_array)"
   ]
  },
  {
   "cell_type": "code",
   "execution_count": 16,
   "id": "af949456-f51b-4e21-a9f8-f3df35979fc4",
   "metadata": {},
   "outputs": [
    {
     "data": {
      "text/plain": [
       "6"
      ]
     },
     "execution_count": 16,
     "metadata": {},
     "output_type": "execute_result"
    }
   ],
   "source": [
    "np.size(num_array)"
   ]
  },
  {
   "cell_type": "markdown",
   "id": "2c9e6409-d8df-4343-b375-7e313980c5d3",
   "metadata": {},
   "source": [
    "## Q5. Write a code to create numpy array of 3*3 matrix containing zeros only, using a numpy array creation function.\n",
    "[Hint: The size of the array will be 9 and the shape will be (3,3).]"
   ]
  },
  {
   "cell_type": "code",
   "execution_count": 17,
   "id": "2db6b744-c126-460d-b0a6-d8325f0b15e6",
   "metadata": {},
   "outputs": [],
   "source": [
    "zero_Arr = np.zeros((3,3))"
   ]
  },
  {
   "cell_type": "code",
   "execution_count": 18,
   "id": "ed147894-8d6c-455f-83f9-2cff38664fcd",
   "metadata": {},
   "outputs": [
    {
     "data": {
      "text/plain": [
       "array([[0., 0., 0.],\n",
       "       [0., 0., 0.],\n",
       "       [0., 0., 0.]])"
      ]
     },
     "execution_count": 18,
     "metadata": {},
     "output_type": "execute_result"
    }
   ],
   "source": [
    "zero_Arr"
   ]
  },
  {
   "cell_type": "markdown",
   "id": "b47d69d6-c12c-4b50-a6c2-3e6ca8768603",
   "metadata": {},
   "source": [
    "## Q6. Create an identity matrix of shape (5,5) using numpy functions?\n",
    "[Hint: An identity matrix is a matrix containing 1 diagonally and other elements will be 0.]"
   ]
  },
  {
   "cell_type": "code",
   "execution_count": 19,
   "id": "b3b45892-3680-4a9e-b5c1-3385afd8ba38",
   "metadata": {},
   "outputs": [],
   "source": [
    "ident_arr = np.eye(5,5)"
   ]
  },
  {
   "cell_type": "code",
   "execution_count": 20,
   "id": "9574311d-b474-410b-bc46-feac8c266e1c",
   "metadata": {},
   "outputs": [
    {
     "data": {
      "text/plain": [
       "array([[1., 0., 0., 0., 0.],\n",
       "       [0., 1., 0., 0., 0.],\n",
       "       [0., 0., 1., 0., 0.],\n",
       "       [0., 0., 0., 1., 0.],\n",
       "       [0., 0., 0., 0., 1.]])"
      ]
     },
     "execution_count": 20,
     "metadata": {},
     "output_type": "execute_result"
    }
   ],
   "source": [
    "ident_arr"
   ]
  },
  {
   "cell_type": "code",
   "execution_count": null,
   "id": "53871b21-7dd3-4f1d-961e-3cf76e081f99",
   "metadata": {},
   "outputs": [],
   "source": []
  }
 ],
 "metadata": {
  "kernelspec": {
   "display_name": "Python 3 (ipykernel)",
   "language": "python",
   "name": "python3"
  },
  "language_info": {
   "codemirror_mode": {
    "name": "ipython",
    "version": 3
   },
   "file_extension": ".py",
   "mimetype": "text/x-python",
   "name": "python",
   "nbconvert_exporter": "python",
   "pygments_lexer": "ipython3",
   "version": "3.10.8"
  }
 },
 "nbformat": 4,
 "nbformat_minor": 5
}
